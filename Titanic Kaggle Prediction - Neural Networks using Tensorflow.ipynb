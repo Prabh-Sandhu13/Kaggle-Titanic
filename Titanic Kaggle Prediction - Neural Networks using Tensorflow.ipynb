{
 "cells": [
  {
   "cell_type": "code",
   "execution_count": 1,
   "metadata": {
    "_cell_guid": "b1076dfc-b9ad-4769-8c92-a6c4dae69d19",
    "_kg_hide-input": true,
    "_kg_hide-output": true,
    "_uuid": "8f2839f25d086af736a60e9eeb907d3b93b6e0e5"
   },
   "outputs": [
    {
     "name": "stdout",
     "output_type": "stream",
     "text": [
      "['test.csv', 'train.csv']\n"
     ]
    }
   ],
   "source": [
    "import numpy as np # linear algebra\n",
    "import pandas as pd # data processing, CSV file I/O (e.g. pd.read_csv)\n",
    "import matplotlib.pyplot as plt\n",
    "import tensorflow as tf\n",
    "from tensorflow.python.framework import ops\n",
    "\n",
    "\n",
    "import os\n",
    "print(os.listdir(\"data\"))"
   ]
  },
  {
   "cell_type": "code",
   "execution_count": 2,
   "metadata": {
    "_cell_guid": "79c7e3d0-c299-4dcb-8224-4455121ee9b0",
    "_uuid": "d629ff2d2480ee46fbb7e2d37f6b5fab8052498a"
   },
   "outputs": [
    {
     "name": "stderr",
     "output_type": "stream",
     "text": [
      "/Users/prabhjot.kaur/Documents/nn-dl/env/lib/python3.6/site-packages/pandas/core/indexing.py:179: SettingWithCopyWarning: \n",
      "A value is trying to be set on a copy of a slice from a DataFrame\n",
      "\n",
      "See the caveats in the documentation: http://pandas.pydata.org/pandas-docs/stable/indexing.html#indexing-view-versus-copy\n",
      "  self._setitem_with_indexer(indexer, value)\n"
     ]
    },
    {
     "data": {
      "text/plain": [
       "0"
      ]
     },
     "execution_count": 2,
     "metadata": {},
     "output_type": "execute_result"
    }
   ],
   "source": [
    "train_data = pd.read_csv('data/train.csv')\n",
    "test_data = pd.read_csv('data/test.csv')\n",
    "\n",
    "train_data = train_data.fillna(np.nan)\n",
    "# train_data.shape, test_data.shape\n",
    "index_NaN_age = list(train_data[\"Age\"][train_data[\"Age\"].isnull()].index)\n",
    "for i in index_NaN_age :\n",
    "    age_med = train_data[\"Age\"].median()\n",
    "    age_pred = train_data[\"Age\"][((train_data['SibSp'] == train_data.iloc[i][\"SibSp\"]) & (train_data['Parch'] == train_data.iloc[i][\"Parch\"]) & (train_data['Pclass'] == train_data.iloc[i][\"Pclass\"]))].median()\n",
    "    if not np.isnan(age_pred) :\n",
    "        train_data['Age'].iloc[i] = age_pred\n",
    "    else :\n",
    "        train_data['Age'].iloc[i] = age_med\n",
    "# min_fare = min(train_data[\"Age\"])\n",
    "# max_fare = max(train_data[\"Age\"])\n",
    "# train_data[\"Age\"] = (train_data[\"Age\"]-min_fare)/(max_fare-min_fare)\n",
    "train_data[\"Embarked\"] = train_data[\"Embarked\"].fillna(\"S\")\n",
    "\n",
    "\n",
    "test_data = test_data.fillna(np.nan)\n",
    "# train_data.shape, test_data.shape\n",
    "index_NaN_age = list(test_data[\"Age\"][test_data[\"Age\"].isnull()].index)\n",
    "for i in index_NaN_age :\n",
    "    age_med = test_data[\"Age\"].median()\n",
    "    age_pred =test_data[\"Age\"][((test_data['SibSp'] == test_data.iloc[i][\"SibSp\"]) & (test_data['Parch'] == test_data.iloc[i][\"Parch\"]) & (test_data['Pclass'] == test_data.iloc[i][\"Pclass\"]))].median()\n",
    "    if not np.isnan(age_pred) :\n",
    "        test_data['Age'].iloc[i] = age_pred\n",
    "    else :\n",
    "        test_data['Age'].iloc[i] = age_med\n",
    "# min_fare = min(test_data[\"Age\"])\n",
    "# max_fare = max(test_data[\"Age\"])\n",
    "# test_data[\"Age\"] = (test_data[\"Age\"]-min_fare)/(max_fare-min_fare)\n",
    "test_data[\"Embarked\"] = test_data[\"Embarked\"].fillna(\"S\")\n",
    "\n",
    "train_data[\"Ticket\"].isnull().sum()"
   ]
  },
  {
   "cell_type": "code",
   "execution_count": 3,
   "metadata": {},
   "outputs": [],
   "source": [
    "guess_Fare = train_data.Fare.loc[ (train_data.Ticket == '3') & (train_data.Pclass == 3) & (train_data.Embarked == 'S')].median()\n",
    "train_data.Fare.fillna(guess_Fare , inplace=True)\n",
    "\n",
    "guess_Fare = test_data.Fare.loc[ (test_data.Ticket == '3') & (test_data.Pclass == 3) & (test_data.Embarked == 'S')].median()\n",
    "test_data.Fare.fillna(guess_Fare , inplace=True)\n",
    "\n",
    "train_data['Fare-bin'] = pd.qcut(train_data.Fare,5,labels=[1,2,3,4,5]).astype(int)\n",
    "test_data['Fare-bin'] = pd.qcut(test_data.Fare,5,labels=[1,2,3,4,5]).astype(int)\n"
   ]
  },
  {
   "cell_type": "code",
   "execution_count": 4,
   "metadata": {},
   "outputs": [
    {
     "data": {
      "text/html": [
       "<div>\n",
       "<style>\n",
       "    .dataframe thead tr:only-child th {\n",
       "        text-align: right;\n",
       "    }\n",
       "\n",
       "    .dataframe thead th {\n",
       "        text-align: left;\n",
       "    }\n",
       "\n",
       "    .dataframe tbody tr th {\n",
       "        vertical-align: top;\n",
       "    }\n",
       "</style>\n",
       "<table border=\"1\" class=\"dataframe\">\n",
       "  <thead>\n",
       "    <tr style=\"text-align: right;\">\n",
       "      <th></th>\n",
       "      <th>PassengerId</th>\n",
       "      <th>Survived</th>\n",
       "      <th>Pclass</th>\n",
       "      <th>Name</th>\n",
       "      <th>Sex</th>\n",
       "      <th>Age</th>\n",
       "      <th>SibSp</th>\n",
       "      <th>Parch</th>\n",
       "      <th>Ticket</th>\n",
       "      <th>Fare</th>\n",
       "      <th>Cabin</th>\n",
       "      <th>Embarked</th>\n",
       "      <th>Fare-bin</th>\n",
       "    </tr>\n",
       "  </thead>\n",
       "  <tbody>\n",
       "    <tr>\n",
       "      <th>0</th>\n",
       "      <td>1</td>\n",
       "      <td>0</td>\n",
       "      <td>3</td>\n",
       "      <td>Braund, Mr. Owen Harris</td>\n",
       "      <td>male</td>\n",
       "      <td>22.0</td>\n",
       "      <td>1</td>\n",
       "      <td>0</td>\n",
       "      <td>4</td>\n",
       "      <td>7.2500</td>\n",
       "      <td>NaN</td>\n",
       "      <td>S</td>\n",
       "      <td>1</td>\n",
       "    </tr>\n",
       "    <tr>\n",
       "      <th>1</th>\n",
       "      <td>2</td>\n",
       "      <td>1</td>\n",
       "      <td>1</td>\n",
       "      <td>Cumings, Mrs. John Bradley (Florence Briggs Th...</td>\n",
       "      <td>female</td>\n",
       "      <td>38.0</td>\n",
       "      <td>1</td>\n",
       "      <td>0</td>\n",
       "      <td>P</td>\n",
       "      <td>71.2833</td>\n",
       "      <td>C85</td>\n",
       "      <td>C</td>\n",
       "      <td>5</td>\n",
       "    </tr>\n",
       "    <tr>\n",
       "      <th>2</th>\n",
       "      <td>3</td>\n",
       "      <td>1</td>\n",
       "      <td>3</td>\n",
       "      <td>Heikkinen, Miss. Laina</td>\n",
       "      <td>female</td>\n",
       "      <td>26.0</td>\n",
       "      <td>0</td>\n",
       "      <td>0</td>\n",
       "      <td>S</td>\n",
       "      <td>7.9250</td>\n",
       "      <td>NaN</td>\n",
       "      <td>S</td>\n",
       "      <td>2</td>\n",
       "    </tr>\n",
       "    <tr>\n",
       "      <th>3</th>\n",
       "      <td>4</td>\n",
       "      <td>1</td>\n",
       "      <td>1</td>\n",
       "      <td>Futrelle, Mrs. Jacques Heath (Lily May Peel)</td>\n",
       "      <td>female</td>\n",
       "      <td>35.0</td>\n",
       "      <td>1</td>\n",
       "      <td>0</td>\n",
       "      <td>1</td>\n",
       "      <td>53.1000</td>\n",
       "      <td>C123</td>\n",
       "      <td>S</td>\n",
       "      <td>5</td>\n",
       "    </tr>\n",
       "    <tr>\n",
       "      <th>4</th>\n",
       "      <td>5</td>\n",
       "      <td>0</td>\n",
       "      <td>3</td>\n",
       "      <td>Allen, Mr. William Henry</td>\n",
       "      <td>male</td>\n",
       "      <td>35.0</td>\n",
       "      <td>0</td>\n",
       "      <td>0</td>\n",
       "      <td>3</td>\n",
       "      <td>8.0500</td>\n",
       "      <td>NaN</td>\n",
       "      <td>S</td>\n",
       "      <td>2</td>\n",
       "    </tr>\n",
       "  </tbody>\n",
       "</table>\n",
       "</div>"
      ],
      "text/plain": [
       "   PassengerId  Survived  Pclass  \\\n",
       "0            1         0       3   \n",
       "1            2         1       1   \n",
       "2            3         1       3   \n",
       "3            4         1       1   \n",
       "4            5         0       3   \n",
       "\n",
       "                                                Name     Sex   Age  SibSp  \\\n",
       "0                            Braund, Mr. Owen Harris    male  22.0      1   \n",
       "1  Cumings, Mrs. John Bradley (Florence Briggs Th...  female  38.0      1   \n",
       "2                             Heikkinen, Miss. Laina  female  26.0      0   \n",
       "3       Futrelle, Mrs. Jacques Heath (Lily May Peel)  female  35.0      1   \n",
       "4                           Allen, Mr. William Henry    male  35.0      0   \n",
       "\n",
       "   Parch Ticket     Fare Cabin Embarked  Fare-bin  \n",
       "0      0      4   7.2500   NaN        S         1  \n",
       "1      0      P  71.2833   C85        C         5  \n",
       "2      0      S   7.9250   NaN        S         2  \n",
       "3      0      1  53.1000  C123        S         5  \n",
       "4      0      3   8.0500   NaN        S         2  "
      ]
     },
     "execution_count": 4,
     "metadata": {},
     "output_type": "execute_result"
    }
   ],
   "source": [
    "train_data['Ticket'] = train_data['Ticket'].map(lambda x: x[0])\n",
    "train_data[\"Ticket\"]= train_data['Ticket'].replace(['A','W','F','L','5','6','7','8','9'], '4')\n",
    "# train_data = pd.get_dummies(train_data, columns=[\"Ticket\"])\n",
    "train_data[:5]\n",
    "test_data['Ticket'] = test_data['Ticket'].map(lambda x: x[0])\n",
    "test_data[\"Ticket\"]= test_data['Ticket'].replace(['A','W','F','L','5','6','7','8','9'], '4')\n",
    "train_data[:5]"
   ]
  },
  {
   "cell_type": "code",
   "execution_count": 5,
   "metadata": {},
   "outputs": [],
   "source": [
    "train_data['Title'] = train_data.Name.map( lambda x: x.split(',')[1].split( '.' )[0].strip())\n",
    "test_data['Title'] = test_data.Name.map( lambda x: x.split(',')[1].split( '.' )[0].strip())"
   ]
  },
  {
   "cell_type": "code",
   "execution_count": 6,
   "metadata": {},
   "outputs": [
    {
     "name": "stderr",
     "output_type": "stream",
     "text": [
      "/Users/prabhjot.kaur/Documents/nn-dl/env/lib/python3.6/site-packages/pandas/core/indexing.py:179: SettingWithCopyWarning: \n",
      "A value is trying to be set on a copy of a slice from a DataFrame\n",
      "\n",
      "See the caveats in the documentation: http://pandas.pydata.org/pandas-docs/stable/indexing.html#indexing-view-versus-copy\n",
      "  self._setitem_with_indexer(indexer, value)\n"
     ]
    }
   ],
   "source": [
    "train_data['Title'] = train_data['Title'].replace('Mlle', 'Miss')\n",
    "train_data['Title'] = train_data['Title'].replace(['Mme','Lady','Ms'], 'Mrs')\n",
    "train_data.Title.loc[ (train_data.Title !=  'Master') & (train_data.Title !=  'Mr') & (train_data.Title !=  'Miss') \n",
    "             & (train_data.Title !=  'Mrs')] = 'Others'\n",
    "\n",
    "test_data['Title'] = test_data['Title'].replace('Mlle', 'Miss')\n",
    "test_data['Title'] = test_data['Title'].replace(['Mme','Lady','Ms'], 'Mrs')\n",
    "test_data.Title.loc[ (test_data.Title !=  'Master') & (test_data.Title !=  'Mr') & (test_data.Title !=  'Miss') \n",
    "             & (test_data.Title !=  'Mrs')] = 'Others'"
   ]
  },
  {
   "cell_type": "code",
   "execution_count": 7,
   "metadata": {},
   "outputs": [
    {
     "data": {
      "text/plain": [
       "(418, 23)"
      ]
     },
     "execution_count": 7,
     "metadata": {},
     "output_type": "execute_result"
    }
   ],
   "source": [
    "train_data = pd.get_dummies(train_data, columns=[\"Ticket\"])\n",
    "train_data\n",
    "test_data = pd.get_dummies(test_data, columns=[\"Ticket\"])\n",
    "\n",
    "train_data = pd.concat([train_data, pd.get_dummies(train_data['Title'])], axis=1).drop(labels=['Name'], axis=1)\n",
    "test_data = pd.concat([test_data, pd.get_dummies(test_data['Title'])], axis=1).drop(labels=['Name'], axis=1)\n",
    "test_data.shape"
   ]
  },
  {
   "cell_type": "code",
   "execution_count": 8,
   "metadata": {},
   "outputs": [
    {
     "data": {
      "text/html": [
       "<div>\n",
       "<style>\n",
       "    .dataframe thead tr:only-child th {\n",
       "        text-align: right;\n",
       "    }\n",
       "\n",
       "    .dataframe thead th {\n",
       "        text-align: left;\n",
       "    }\n",
       "\n",
       "    .dataframe tbody tr th {\n",
       "        vertical-align: top;\n",
       "    }\n",
       "</style>\n",
       "<table border=\"1\" class=\"dataframe\">\n",
       "  <thead>\n",
       "    <tr style=\"text-align: right;\">\n",
       "      <th></th>\n",
       "      <th>PassengerId</th>\n",
       "      <th>Survived</th>\n",
       "      <th>Pclass</th>\n",
       "      <th>Sex</th>\n",
       "      <th>Age</th>\n",
       "      <th>SibSp</th>\n",
       "      <th>Parch</th>\n",
       "      <th>Fare</th>\n",
       "      <th>Cabin</th>\n",
       "      <th>Embarked</th>\n",
       "      <th>...</th>\n",
       "      <th>Ticket_4</th>\n",
       "      <th>Ticket_C</th>\n",
       "      <th>Ticket_P</th>\n",
       "      <th>Ticket_S</th>\n",
       "      <th>Master</th>\n",
       "      <th>Miss</th>\n",
       "      <th>Mr</th>\n",
       "      <th>Mrs</th>\n",
       "      <th>Others</th>\n",
       "      <th>Family</th>\n",
       "    </tr>\n",
       "  </thead>\n",
       "  <tbody>\n",
       "    <tr>\n",
       "      <th>0</th>\n",
       "      <td>1</td>\n",
       "      <td>0</td>\n",
       "      <td>3</td>\n",
       "      <td>male</td>\n",
       "      <td>22.0</td>\n",
       "      <td>1</td>\n",
       "      <td>0</td>\n",
       "      <td>7.2500</td>\n",
       "      <td>NaN</td>\n",
       "      <td>S</td>\n",
       "      <td>...</td>\n",
       "      <td>1</td>\n",
       "      <td>0</td>\n",
       "      <td>0</td>\n",
       "      <td>0</td>\n",
       "      <td>0</td>\n",
       "      <td>0</td>\n",
       "      <td>1</td>\n",
       "      <td>0</td>\n",
       "      <td>0</td>\n",
       "      <td>2</td>\n",
       "    </tr>\n",
       "    <tr>\n",
       "      <th>1</th>\n",
       "      <td>2</td>\n",
       "      <td>1</td>\n",
       "      <td>1</td>\n",
       "      <td>female</td>\n",
       "      <td>38.0</td>\n",
       "      <td>1</td>\n",
       "      <td>0</td>\n",
       "      <td>71.2833</td>\n",
       "      <td>C85</td>\n",
       "      <td>C</td>\n",
       "      <td>...</td>\n",
       "      <td>0</td>\n",
       "      <td>0</td>\n",
       "      <td>1</td>\n",
       "      <td>0</td>\n",
       "      <td>0</td>\n",
       "      <td>0</td>\n",
       "      <td>0</td>\n",
       "      <td>1</td>\n",
       "      <td>0</td>\n",
       "      <td>2</td>\n",
       "    </tr>\n",
       "    <tr>\n",
       "      <th>2</th>\n",
       "      <td>3</td>\n",
       "      <td>1</td>\n",
       "      <td>3</td>\n",
       "      <td>female</td>\n",
       "      <td>26.0</td>\n",
       "      <td>0</td>\n",
       "      <td>0</td>\n",
       "      <td>7.9250</td>\n",
       "      <td>NaN</td>\n",
       "      <td>S</td>\n",
       "      <td>...</td>\n",
       "      <td>0</td>\n",
       "      <td>0</td>\n",
       "      <td>0</td>\n",
       "      <td>1</td>\n",
       "      <td>0</td>\n",
       "      <td>1</td>\n",
       "      <td>0</td>\n",
       "      <td>0</td>\n",
       "      <td>0</td>\n",
       "      <td>1</td>\n",
       "    </tr>\n",
       "    <tr>\n",
       "      <th>3</th>\n",
       "      <td>4</td>\n",
       "      <td>1</td>\n",
       "      <td>1</td>\n",
       "      <td>female</td>\n",
       "      <td>35.0</td>\n",
       "      <td>1</td>\n",
       "      <td>0</td>\n",
       "      <td>53.1000</td>\n",
       "      <td>C123</td>\n",
       "      <td>S</td>\n",
       "      <td>...</td>\n",
       "      <td>0</td>\n",
       "      <td>0</td>\n",
       "      <td>0</td>\n",
       "      <td>0</td>\n",
       "      <td>0</td>\n",
       "      <td>0</td>\n",
       "      <td>0</td>\n",
       "      <td>1</td>\n",
       "      <td>0</td>\n",
       "      <td>2</td>\n",
       "    </tr>\n",
       "    <tr>\n",
       "      <th>4</th>\n",
       "      <td>5</td>\n",
       "      <td>0</td>\n",
       "      <td>3</td>\n",
       "      <td>male</td>\n",
       "      <td>35.0</td>\n",
       "      <td>0</td>\n",
       "      <td>0</td>\n",
       "      <td>8.0500</td>\n",
       "      <td>NaN</td>\n",
       "      <td>S</td>\n",
       "      <td>...</td>\n",
       "      <td>0</td>\n",
       "      <td>0</td>\n",
       "      <td>0</td>\n",
       "      <td>0</td>\n",
       "      <td>0</td>\n",
       "      <td>0</td>\n",
       "      <td>1</td>\n",
       "      <td>0</td>\n",
       "      <td>0</td>\n",
       "      <td>1</td>\n",
       "    </tr>\n",
       "  </tbody>\n",
       "</table>\n",
       "<p>5 rows × 25 columns</p>\n",
       "</div>"
      ],
      "text/plain": [
       "   PassengerId  Survived  Pclass     Sex   Age  SibSp  Parch     Fare Cabin  \\\n",
       "0            1         0       3    male  22.0      1      0   7.2500   NaN   \n",
       "1            2         1       1  female  38.0      1      0  71.2833   C85   \n",
       "2            3         1       3  female  26.0      0      0   7.9250   NaN   \n",
       "3            4         1       1  female  35.0      1      0  53.1000  C123   \n",
       "4            5         0       3    male  35.0      0      0   8.0500   NaN   \n",
       "\n",
       "  Embarked   ...    Ticket_4 Ticket_C  Ticket_P  Ticket_S  Master  Miss  Mr  \\\n",
       "0        S   ...           1        0         0         0       0     0   1   \n",
       "1        C   ...           0        0         1         0       0     0   0   \n",
       "2        S   ...           0        0         0         1       0     1   0   \n",
       "3        S   ...           0        0         0         0       0     0   0   \n",
       "4        S   ...           0        0         0         0       0     0   1   \n",
       "\n",
       "   Mrs  Others  Family  \n",
       "0    0       0       2  \n",
       "1    1       0       2  \n",
       "2    0       0       1  \n",
       "3    1       0       2  \n",
       "4    0       0       1  \n",
       "\n",
       "[5 rows x 25 columns]"
      ]
     },
     "execution_count": 8,
     "metadata": {},
     "output_type": "execute_result"
    }
   ],
   "source": [
    "train_data['Family'] = train_data['SibSp'] + train_data['Parch'] + 1\n",
    "test_data['Family'] = test_data['SibSp'] + test_data['Parch'] + 1\n",
    "train_data[:5]"
   ]
  },
  {
   "cell_type": "code",
   "execution_count": 9,
   "metadata": {
    "_cell_guid": "f05b5d53-8cec-4e09-b757-5710b5f2198d",
    "_uuid": "687ccc676e3f64bde50c0a2aae0af1c552eb81ae"
   },
   "outputs": [
    {
     "data": {
      "text/plain": [
       "((791, 18), (791, 1), (100, 18), (100, 1), (418, 18))"
      ]
     },
     "execution_count": 9,
     "metadata": {},
     "output_type": "execute_result"
    }
   ],
   "source": [
    "train_data = train_data.replace([\"male\", \"female\"], [0,1])\n",
    "train_data = train_data.replace([\"S\", \"C\", \"Q\"], [0,1,2])\n",
    "train_data = train_data.replace([\"NaN\"],[0])\n",
    "X = train_data[[\"Pclass\",\"Sex\",\"Age\",\"Family\",\"Fare-bin\",\"Embarked\",\"Ticket_1\",\"Ticket_2\",\"Ticket_3\",\"Ticket_4\",\"Ticket_C\",\"Ticket_P\",\"Ticket_S\",\"Master\",\"Miss\",\"Mr\",\"Mrs\",\"Others\"]]\n",
    "Y = train_data[[\"Survived\"]]\n",
    "\n",
    "m1 = X.shape[0] #no of examples\n",
    "\n",
    "X_train = X[:m1-100]\n",
    "Y_train = Y[:m1-100]\n",
    "X_test = X[m1-100: m1]\n",
    "Y_test = Y[m1-100: m1]\n",
    "\n",
    "test_data = test_data.replace([\"male\", \"female\"], [0,1])\n",
    "test_data = test_data.replace([\"S\", \"C\", \"Q\"], [0,1,2])\n",
    "X_predict = test_data[[\"Pclass\",\"Sex\",\"Age\",\"Family\",\"Fare-bin\",\"Embarked\",\"Ticket_1\",\"Ticket_2\",\"Ticket_3\",\"Ticket_4\",\"Ticket_C\",\"Ticket_P\",\"Ticket_S\",\"Master\",\"Miss\",\"Mr\",\"Mrs\",\"Others\"]]\n",
    "\n",
    "\n",
    "X_train.shape, Y_train.shape, X_test.shape, Y_test.shape, X_predict.shape "
   ]
  },
  {
   "cell_type": "code",
   "execution_count": 10,
   "metadata": {
    "_cell_guid": "290d9bf9-a49a-4330-bb4a-339a5a69b040",
    "_uuid": "2d5eee8e5aca6da568ef6a41050cd43e4e717b23"
   },
   "outputs": [
    {
     "data": {
      "text/plain": [
       "((18, 791), (1, 791), (18, 100), (1, 100), (18, 418))"
      ]
     },
     "execution_count": 10,
     "metadata": {},
     "output_type": "execute_result"
    }
   ],
   "source": [
    "X_train = X_train.transpose();\n",
    "Y_train = Y_train.transpose();\n",
    "X_test = X_test.transpose();\n",
    "Y_test = Y_test.transpose();\n",
    "X_predict = X_predict.transpose();\n",
    "X_train.shape, Y_train.shape, X_test.shape, Y_test.shape, X_predict.shape"
   ]
  },
  {
   "cell_type": "code",
   "execution_count": 95,
   "metadata": {
    "_uuid": "d04d56490f628a609be029af4cbab2871441fde8"
   },
   "outputs": [],
   "source": [
    "n_x = 18  #input units\n",
    "n_h1 = 30 #units in 1st hidden layer\n",
    "n_h2 = 20 #units in 2nd hidden layer\n",
    "n_h3 = 10 #units in 3rd hidden layer\n",
    "n_y = 1 #output units"
   ]
  },
  {
   "cell_type": "code",
   "execution_count": 96,
   "metadata": {
    "_cell_guid": "9def590f-82f3-4654-bf50-b05d4ed4c8b9",
    "_uuid": "e7bdf6c3971fdbf319e7c71d8f812cf33c37fc0c"
   },
   "outputs": [],
   "source": [
    "def create_placeholders(n_x, n_y):\n",
    "    X = tf.placeholder(tf.float32, [n_x, None], name = 'X')\n",
    "    Y = tf.placeholder(tf.float32, [n_y, None], name = 'Y')\n",
    "\n",
    "    return X,Y"
   ]
  },
  {
   "cell_type": "code",
   "execution_count": 97,
   "metadata": {
    "_cell_guid": "34a9dc60-6d83-4a58-86b6-f80c4f268e7c",
    "_uuid": "7be92e8b61d2e281b588bc52ec0580939a2dbb4d"
   },
   "outputs": [],
   "source": [
    "def intialize_params():\n",
    "    W1 = tf.get_variable(\"W1\", [n_h1,n_x], initializer= tf.contrib.layers.xavier_initializer(seed=1) )\n",
    "    b1 = tf.get_variable(\"b1\", [n_h1, 1], initializer= tf.zeros_initializer())\n",
    "    W2 = tf.get_variable(\"W2\", [n_h2,n_h1], initializer= tf.contrib.layers.xavier_initializer(seed=1) )\n",
    "    b2 = tf.get_variable(\"b2\", [n_h2, 1], initializer= tf.zeros_initializer())\n",
    "    W3 = tf.get_variable(\"W3\", [n_h3,n_h2], initializer= tf.contrib.layers.xavier_initializer(seed=1) )\n",
    "    b3 = tf.get_variable(\"b3\", [n_h3, 1], initializer= tf.zeros_initializer())\n",
    "    W4 = tf.get_variable(\"W4\", [n_y,n_h3], initializer= tf.contrib.layers.xavier_initializer(seed=1) )\n",
    "    b4 = tf.get_variable(\"b4\", [n_y, 1], initializer= tf.zeros_initializer())\n",
    "    \n",
    "    parameters = {\n",
    "        \"W1\": W1,\n",
    "        \"b1\": b1,\n",
    "        \"W2\": W2,\n",
    "        \"b2\": b2,\n",
    "        \"W3\": W3,\n",
    "        \"b3\": b3,\n",
    "        \"W4\": W4,\n",
    "        \"b4\": b4\n",
    "    }\n",
    "    return parameters"
   ]
  },
  {
   "cell_type": "code",
   "execution_count": 98,
   "metadata": {
    "_cell_guid": "fdd78fac-0ba7-4ffc-b28e-ce626b2495f1",
    "_uuid": "a74fedbe66072af17759a9f3627685c1db02d8f5"
   },
   "outputs": [],
   "source": [
    "def forward_prop(X, parameters, keep_prob):\n",
    "    W1 = parameters['W1']\n",
    "    b1 = parameters['b1']\n",
    "    W2 = parameters['W2']\n",
    "    b2 = parameters['b2']\n",
    "    W3 = parameters['W3']\n",
    "    b3 = parameters['b3']\n",
    "    W4 = parameters['W4']\n",
    "    b4 = parameters['b4']\n",
    "    \n",
    "    Z1 = tf.add(tf.matmul(W1, X), b1)\n",
    "    A1 = tf.nn.relu(Z1)\n",
    "     # apply DropOut to hidden layer\n",
    "    drop_out = tf.nn.dropout(A1, keep_prob)  # DROP-OUT here\n",
    "    Z2 = tf.add(tf.matmul(W2, drop_out), b2)\n",
    "    A2 = tf.nn.relu(Z2)\n",
    "    Z3 = tf.add(tf.matmul(W3, A2), b3)\n",
    "    A3 = tf.nn.relu(Z3)\n",
    "    Z4 = tf.add(tf.matmul(W4, A3), b4)\n",
    "    A4 = tf.sigmoid(Z4)\n",
    "    \n",
    "    return A4"
   ]
  },
  {
   "cell_type": "code",
   "execution_count": 99,
   "metadata": {
    "_cell_guid": "ad73f504-c3f3-4120-b96e-49ad99e6bb9e",
    "_uuid": "ff45538694fb3d60ab1f592f2e80f375883dd9f6"
   },
   "outputs": [],
   "source": [
    "def compute_cost(A3, Y):\n",
    "    logits  = tf.transpose(A3)\n",
    "    labels = tf.transpose(Y) \n",
    "    \n",
    "    cost = tf.losses.mean_squared_error(labels=labels, predictions=logits)\n",
    "    \n",
    "    return cost"
   ]
  },
  {
   "cell_type": "code",
   "execution_count": 100,
   "metadata": {
    "_cell_guid": "dea5bd91-ff36-4dc3-bd65-3ceffae13a5e",
    "_uuid": "e218033f4c758a54be9e732775218c35c7a98224"
   },
   "outputs": [],
   "source": [
    "def model(X_train, Y_train, X_test, Y_test, learning_rate = 0.01, num_epochs = 2000, print_cost = True):\n",
    "    ops.reset_default_graph()\n",
    "    tf.set_random_seed(1)\n",
    "    seed=3\n",
    "    \n",
    "    [n_x, m] = X_train.shape\n",
    "    n_y = Y_train.shape[0]\n",
    "    \n",
    "    costs= []\n",
    "    \n",
    "    X, Y = create_placeholders(n_x, n_y)\n",
    "    \n",
    "    keep_prob = tf.placeholder(tf.float32)\n",
    "    \n",
    "    parameters = intialize_params()\n",
    "    \n",
    "    A3 = forward_prop(X, parameters, keep_prob)\n",
    "    \n",
    "    cost = compute_cost(A3, Y)\n",
    "    \n",
    "    optimizer = tf.train.AdamOptimizer(learning_rate=learning_rate).minimize(cost)\n",
    "    \n",
    "    init = tf.global_variables_initializer()\n",
    "    \n",
    "    with tf.Session() as sess:\n",
    "        sess.run(init)\n",
    "        \n",
    "        for epoch in range(num_epochs):\n",
    "            epoch_cost = 0\n",
    "            _, epoch_cost = sess.run([optimizer, cost], feed_dict={X:X_train, Y: Y_train, keep_prob : 0.5})\n",
    "            # Print the cost every epoch\n",
    "            if print_cost == True and epoch % 100 == 0:\n",
    "                print (\"Cost after epoch %i: %f\" % (epoch, epoch_cost))\n",
    "            if print_cost == True and epoch % 5 == 0:\n",
    "                costs.append(epoch_cost)\n",
    "                \n",
    "        plt.plot(np.squeeze(costs))\n",
    "        plt.ylabel('cost')\n",
    "        plt.xlabel('iterations (per tens)')\n",
    "        plt.title(\"Learning rate =\" + str(learning_rate))\n",
    "        plt.show()\n",
    "\n",
    "        parameters = sess.run(parameters)\n",
    "        \n",
    "        correct_prediction = tf.equal(tf.round(A3), Y)\n",
    "        \n",
    "        # Calculate accuracy on the test set\n",
    "        accuracy = tf.reduce_mean(tf.cast(correct_prediction, \"float\"))\n",
    "\n",
    "        print(\"Train Accuracy:\", accuracy.eval({X: X_train, Y: Y_train, keep_prob : 1.0}))\n",
    "        print(\"Test Accuracy:\", accuracy.eval({X: X_test, Y: Y_test, keep_prob : 1.0}))\n",
    "        \n",
    "        return parameters"
   ]
  },
  {
   "cell_type": "code",
   "execution_count": 101,
   "metadata": {
    "_cell_guid": "f43f4187-b1df-4148-b9f5-0d95163cb916",
    "_uuid": "81d30e40159355a2b81f0be2e3671fc853fe830f"
   },
   "outputs": [
    {
     "name": "stdout",
     "output_type": "stream",
     "text": [
      "Cost after epoch 0: 0.392014\n",
      "Cost after epoch 100: 0.134111\n",
      "Cost after epoch 200: 0.119562\n",
      "Cost after epoch 300: 0.114434\n",
      "Cost after epoch 400: 0.114974\n",
      "Cost after epoch 500: 0.114049\n",
      "Cost after epoch 600: 0.113469\n",
      "Cost after epoch 700: 0.110995\n",
      "Cost after epoch 800: 0.107096\n",
      "Cost after epoch 900: 0.104779\n",
      "Cost after epoch 1000: 0.108227\n",
      "Cost after epoch 1100: 0.104073\n",
      "Cost after epoch 1200: 0.105877\n",
      "Cost after epoch 1300: 0.108321\n",
      "Cost after epoch 1400: 0.106541\n",
      "Cost after epoch 1500: 0.108172\n",
      "Cost after epoch 1600: 0.106848\n",
      "Cost after epoch 1700: 0.103654\n",
      "Cost after epoch 1800: 0.099315\n",
      "Cost after epoch 1900: 0.102754\n"
     ]
    },
    {
     "data": {
      "image/png": "[encoded data removed]",
      "text/plain": [
       "<matplotlib.figure.Figure at 0x1168c60f0>"
      ]
     },
     "metadata": {},
     "output_type": "display_data"
    },
    {
     "name": "stdout",
     "output_type": "stream",
     "text": [
      "Train Accuracy: 0.874842\n",
      "Test Accuracy: 0.86\n"
     ]
    }
   ],
   "source": [
    "parameters = model(X_train, Y_train, X_test, Y_test)"
   ]
  },
  {
   "cell_type": "code",
   "execution_count": 102,
   "metadata": {},
   "outputs": [],
   "source": [
    "def predict(X_predict, parameters):\n",
    "    X, Y = create_placeholders(n_x, n_y)\n",
    "    keep_prob = tf.placeholder(tf.float32)\n",
    "    Y_pred = tf.cast(tf.round(forward_prop(X, parameters, keep_prob)), tf.int32) \n",
    "    init = tf.global_variables_initializer()\n",
    "    with tf.Session() as sess:\n",
    "        sess.run(init)\n",
    "        Y_pred = sess.run(Y_pred, feed_dict={X:X_predict, keep_prob:1.0})\n",
    "        print('y: ', Y_pred)\n",
    "        \n",
    "    return Y_pred  "
   ]
  },
  {
   "cell_type": "code",
   "execution_count": 103,
   "metadata": {},
   "outputs": [
    {
     "name": "stdout",
     "output_type": "stream",
     "text": [
      "y:  [[0 0 0 0 0 0 1 0 1 0 0 0 1 0 1 1 0 0 1 0 0 1 1 0 1 0 1 0 0 0 0 0 0 0 1 0 0\n",
      "  0 0 1 0 1 0 1 1 0 0 0 1 1 1 0 1 1 0 0 0 0 0 1 0 0 0 1 1 1 1 0 0 1 1 0 0 1\n",
      "  1 1 0 1 0 1 1 0 0 0 0 0 1 0 0 1 1 0 1 0 1 0 1 0 0 0 1 0 0 0 0 0 0 0 0 0 0\n",
      "  1 1 1 1 0 0 1 1 1 1 0 1 0 0 0 0 1 0 0 0 1 0 0 0 0 0 0 1 0 0 1 0 0 0 0 0 0\n",
      "  1 0 1 0 0 0 0 0 1 0 0 1 1 1 1 0 0 0 0 0 1 0 0 0 0 0 0 1 1 0 1 1 0 0 1 0 1\n",
      "  0 1 0 0 0 0 1 0 0 1 0 1 1 0 0 1 1 1 1 0 0 1 0 1 0 0 0 0 1 0 0 1 0 1 0 1 0\n",
      "  0 0 1 0 0 1 0 0 0 1 0 0 0 0 0 0 1 1 1 1 1 0 0 1 1 0 1 0 0 0 1 0 0 0 0 0 1\n",
      "  0 0 0 1 1 0 0 0 0 0 0 0 0 1 1 0 1 0 0 0 0 0 1 1 1 0 0 0 0 0 0 0 1 0 0 0 0\n",
      "  1 0 1 0 0 0 0 0 1 1 0 1 0 0 0 0 0 1 1 1 0 0 0 0 0 0 0 1 1 0 1 0 0 0 1 0 0\n",
      "  0 0 1 0 0 0 1 0 0 0 1 0 1 0 1 0 1 1 0 0 0 0 0 1 0 0 0 0 1 1 0 1 0 0 1 1 0\n",
      "  0 1 0 0 1 1 0 0 0 0 0 0 1 0 0 1 0 0 0 0 1 1 1 0 0 1 0 1 0 0 1 0 1 1 0 0 0\n",
      "  0 1 1 1 1 1 0 1 0 0 1]]\n"
     ]
    },
    {
     "data": {
      "text/plain": [
       "(1, 418)"
      ]
     },
     "execution_count": 103,
     "metadata": {},
     "output_type": "execute_result"
    }
   ],
   "source": [
    "predictions = predict(X_predict, parameters)\n",
    "predictions.shape"
   ]
  },
  {
   "cell_type": "code",
   "execution_count": 104,
   "metadata": {},
   "outputs": [],
   "source": [
    "index = test_data[\"PassengerId\"]\n",
    "predictions = predictions.transpose().reshape(test_data[\"PassengerId\"].shape)\n",
    "submission = pd.DataFrame({\n",
    "        \"PassengerId\": test_data[\"PassengerId\"],\n",
    "        \"Survived\": predictions\n",
    "    })"
   ]
  },
  {
   "cell_type": "code",
   "execution_count": 105,
   "metadata": {},
   "outputs": [],
   "source": [
    "submission.to_csv('./output/submission.csv', index=False)"
   ]
  },
  {
   "cell_type": "code",
   "execution_count": null,
   "metadata": {},
   "outputs": [],
   "source": []
  },
  {
   "cell_type": "code",
   "execution_count": null,
   "metadata": {},
   "outputs": [],
   "source": []
  }
 ],
 "metadata": {
  "kernelspec": {
   "display_name": "Python 3",
   "language": "python",
   "name": "python3"
  },
  "language_info": {
   "codemirror_mode": {
    "name": "ipython",
    "version": 3
   },
   "file_extension": ".py",
   "mimetype": "text/x-python",
   "name": "python",
   "nbconvert_exporter": "python",
   "pygments_lexer": "ipython3",
   "version": "3.6.1"
  }
 },
 "nbformat": 4,
 "nbformat_minor": 1
}
